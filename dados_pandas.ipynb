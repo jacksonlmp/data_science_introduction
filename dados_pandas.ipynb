{
 "cells": [
  {
   "cell_type": "code",
   "execution_count": 1,
   "metadata": {},
   "outputs": [
    {
     "name": "stdout",
     "output_type": "stream",
     "text": [
      "0         4.0\n",
      "1         4.0\n",
      "2         4.0\n",
      "3         5.0\n",
      "4         5.0\n",
      "         ... \n",
      "100831    4.0\n",
      "100832    5.0\n",
      "100833    5.0\n",
      "100834    5.0\n",
      "100835    3.0\n",
      "Name: nota, Length: 100836, dtype: float64\n",
      "============================================================\n",
      "[4.  5.  3.  2.  1.  4.5 3.5 2.5 0.5 1.5]\n"
     ]
    },
    {
     "data": {
      "text/plain": [
       "<AxesSubplot:>"
      ]
     },
     "execution_count": 1,
     "metadata": {},
     "output_type": "execute_result"
    },
    {
     "data": {
      "image/png": "[encoded data removed]",
      "text/plain": [
       "<Figure size 432x288 with 1 Axes>"
      ]
     },
     "metadata": {
      "needs_background": "light"
     },
     "output_type": "display_data"
    }
   ],
   "source": [
    "import pandas as pd\n",
    "import matplotlib.pyplot as plt\n",
    "\n",
    "#Leitura do arquivo\n",
    "notas = pd.read_csv(\"dados/ratings.csv\")\n",
    "\n",
    "#Muda os nomes da coluna\n",
    "notas.columns = [\"usuarioID\", \"filmeID\", \"nota\", \"momento\"]\n",
    "\n",
    "print(notas['nota'])\n",
    "print(\"=\"*60)\n",
    "print(notas['nota'].unique())\n",
    "\n",
    "notas.nota.plot()\n",
    "#plt.show()"
   ]
  },
  {
   "cell_type": "code",
   "execution_count": null,
   "metadata": {},
   "outputs": [],
   "source": []
  }
 ],
 "metadata": {
  "interpreter": {
   "hash": "37fecfc2a9593f695bce63190ddf5c905652d33afc889827ba3c9227ea11cda9"
  },
  "kernelspec": {
   "display_name": "Python 3.9.5 64-bit",
   "language": "python",
   "name": "python3"
  },
  "language_info": {
   "codemirror_mode": {
    "name": "ipython",
    "version": 3
   },
   "file_extension": ".py",
   "mimetype": "text/x-python",
   "name": "python",
   "nbconvert_exporter": "python",
   "pygments_lexer": "ipython3",
   "version": "3.9.6"
  },
  "orig_nbformat": 4
 },
 "nbformat": 4,
 "nbformat_minor": 2
}
